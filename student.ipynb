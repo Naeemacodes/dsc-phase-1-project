{
 "cells": [
  {
   "cell_type": "markdown",
   "metadata": {},
   "source": [
    "## Final Project Submission\n",
    "\n",
    "Please fill out:\n",
    "* Student name: \n",
    "* Student pace: self paced / part time / full time\n",
    "* Scheduled project review date/time: \n",
    "* Instructor name: \n",
    "* Blog post URL:\n"
   ]
  },
  {
   "cell_type": "code",
   "execution_count": null,
   "metadata": {},
   "outputs": [],
   "source": [
    "# Your code here - remember to use markdown cells for comments as well!"
# Final Project Submission

Please fill out:
* Student name:  Naeema Suleiman Sheikh 
* Student pace: self paced / part time / full time: Part time 
* Scheduled project review date/time:   
* Instructor name: 
* Blog post URL: 

## Project Name

Microsoft Film Studio Analysis

## Overview
For this project, we will explore what type of movies are currently popular at the box office by analyzing the current trends and provide insights for Microsoft's new movie studio.
 
## Business Problems

Microsoft will need to understand the preferences and interests of the target audience. Additionally, it may need to find ways to stand out and differentiate itself in the film studios market. Establishment of partnerships to attract top-level talent is very much required.  The cost of implementing new technologies comes with a significant financial investment and keeping up with the pace or the evolving technology is crucial.


## Data Understanding

# Your code here - remember to use markdown cells for comments as well!
import pandas as pd
import numpy as np

# import matplotlib to be plot histograms
import matplotlib.pyplot as plt

movies = pd.read_csv("zippedData/bom.movie_gross.csv.gz")
title_basic = pd.read_csv("zippedData/imdb.title.basics.csv.gz")
title_ratings = pd.read_csv("zippedData/imdb.title.ratings.csv.gz")

# .info is used to check the total number of rows and columns 
# the column data types and memory usage are checked here

movies.info

title_basic.info

title_ratings.info

movies.head()

# show the number of rows and columns respectively 
movies.shape

movies['domestic_gross'].value_counts().head()

movies['foreign_gross'].value_counts().head()

movies['title'].value_counts().head()

title_ratings.head()

title_ratings['averagerating'].value_counts().head()

title_ratings['numvotes'].value_counts().head()

title_basic.head()

title_basic['runtime_minutes'].value_counts().head()

## Data Preparation  and Cleaning

# checking to see if there is any missing values
pd.isnull(movies).sum()

# replacing missing values by the median
movies['domestic_gross'].fillna(movies.domestic_gross.median(),inplace=True)

# MERGING THE DATASETS
# This will allow a 1:1 merge.
df = title_basic.set_index('tconst').join(title_ratings.set_index('tconst'))
df

# dropping all columns with null values
data=movies.dropna(axis = 1)
data

df.isna().sum() #checking for missing/null values 

#dropping null/ missing values
df.dropna()

#finding duplicated values in df dataset
df.duplicated().sum()

#removing duplicates 
df.drop_duplicates(inplace= True) 

df.duplicated().sum()

# removing any duplicated values in movies table
movies.drop_duplicates(inplace = True)

movies.duplicated().sum()

# Make column names easier to use
#movies['foreign_gross'] = movies['foreign_gross'].str.replace(",","")

# Drop unnecessary columns
#movies.drop(columns = ['studio'], inplace=True )

movies.head()

title_ratings ['tconst'] = title_ratings['tconst'].str.replace("-","")


title_ratings.head()

## Data Visualization and Analysis

#Displays the title of the Movie having a runtime >= 120 minutes
df[df['runtime_minutes'] >= 120]['original_title']

df.columns

movies.columns

# this will help us find which years had the highest average voting
df.groupby('start_year')['numvotes'].mean().sort_values(ascending=False).head()

#to find leading genres by checking average rating of >=7.0
leading= df [df['averagerating']>= 7.0]['genres']
leading

# checking top 10 movies based on gross using nlargest function
movies.nlargest (n=10, columns='domestic_gross')

# total domestic gross for each year
movies.groupby('year')['domestic_gross'].sum()

#Plotting a histogram to show distribution of the average rating 
df['averagerating'].hist()

movies['domestic_gross'].hist()

## Conclusion
By analyzing successful films at the box office, there is a demand for a variety of genres. Genres that are preffered by the masses should be considered.
The number of votes and ratings through the years should be observed.
It is important to think about what the audience find interesting by balancing between popular genres and fresh storytelling.

   ]
  }
 ],
 "metadata": {
  "kernelspec": {
   "display_name": "Python 3",
   "language": "python",
   "name": "python3"
  },
  "language_info": {
   "codemirror_mode": {
    "name": "ipython",
    "version": 3
   },
   "file_extension": ".py",
   "mimetype": "text/x-python",
   "name": "python",
   "nbconvert_exporter": "python",
   "pygments_lexer": "ipython3",
   "version": "3.6.4"
  }
 },
 "nbformat": 4,
 "nbformat_minor": 2
}
